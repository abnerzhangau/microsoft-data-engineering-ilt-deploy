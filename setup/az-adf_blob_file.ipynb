{
 "cells": [
  {
   "cell_type": "code",
   "execution_count": 6,
   "id": "complicated-today",
   "metadata": {},
   "outputs": [],
   "source": [
    "from azure.identity import ClientSecretCredential \n",
    "from azure.mgmt.resource import ResourceManagementClient\n",
    "from azure.mgmt.datafactory import DataFactoryManagementClient\n",
    "from azure.mgmt.datafactory.models import *\n",
    "from datetime import datetime, timedelta\n",
    "import time\n",
    "import os\n",
    "from azure.common.credentials import ServicePrincipalCredentials\n",
    "from azure.mgmt.resource import ResourceManagementClient\n",
    "import os, random\n",
    "import os\n",
    "import json\n",
    "from datetime import datetime\n",
    "# Import the needed management objects from the libraries. The azure.common library\n",
    "# is installed automatically with the other libraries.\n",
    "from azure.identity import AzureCliCredential\n",
    "from azure.mgmt.resource import ResourceManagementClient\n",
    "from azure.mgmt.storage import StorageManagementClient\n",
    "from azure.storage.blob import BlobClient\n"
   ]
  },
  {
   "cell_type": "code",
   "execution_count": 7,
   "id": "seven-trick",
   "metadata": {},
   "outputs": [],
   "source": [
    "def print_item(group):\n",
    "    \"\"\"Print an Azure object instance.\"\"\"\n",
    "    print(\"\\tName: {}\".format(group.name))\n",
    "    print(\"\\tId: {}\".format(group.id))\n",
    "    if hasattr(group, 'location'):\n",
    "        print(\"\\tLocation: {}\".format(group.location))\n",
    "    if hasattr(group, 'tags'):\n",
    "        print(\"\\tTags: {}\".format(group.tags))\n",
    "    if hasattr(group, 'properties'):\n",
    "        print_properties(group.properties)\n",
    "\n",
    "def print_properties(props):\n",
    "    \"\"\"Print a ResourceGroup properties instance.\"\"\"\n",
    "    if props and hasattr(props, 'provisioning_state') and props.provisioning_state:\n",
    "        print(\"\\tProperties:\")\n",
    "        print(\"\\t\\tProvisioning State: {}\".format(props.provisioning_state))\n",
    "    print(\"\\n\\n\")\n",
    "\n",
    "def print_activity_run_details(activity_run):\n",
    "    \"\"\"Print activity run details.\"\"\"\n",
    "    print(\"\\n\\tActivity run details\\n\")\n",
    "    print(\"\\tActivity run status: {}\".format(activity_run.status))\n",
    "    if activity_run.status == 'Succeeded':\n",
    "        print(\"\\tNumber of bytes read: {}\".format(activity_run.output['dataRead']))\n",
    "        print(\"\\tNumber of bytes written: {}\".format(activity_run.output['dataWritten']))\n",
    "        print(\"\\tCopy duration: {}\".format(activity_run.output['copyDuration']))\n",
    "    else:\n",
    "        print(\"\\tErrors: {}\".format(activity_run.error['message']))"
   ]
  },
  {
   "cell_type": "code",
   "execution_count": 8,
   "id": "graduate-invite",
   "metadata": {},
   "outputs": [
    {
     "name": "stdout",
     "output_type": "stream",
     "text": [
      "Create Resource Group\n",
      "\tName: azure-sample-group\n",
      "\tId: /subscriptions/3600cd0c-0725-4a38-8ac6-e135b659c5c8/resourceGroups/azure-sample-group\n",
      "\tLocation: australiaeast\n",
      "\tTags: None\n",
      "\tProperties:\n",
      "\t\tProvisioning State: Succeeded\n",
      "\n",
      "\n",
      "\n",
      "Modify Resource Group\n",
      "\tName: azure-sample-group\n",
      "\tId: /subscriptions/3600cd0c-0725-4a38-8ac6-e135b659c5c8/resourceGroups/azure-sample-group\n",
      "\tLocation: australiaeast\n",
      "\tTags: {'hello': 'world'}\n",
      "\tProperties:\n",
      "\t\tProvisioning State: Succeeded\n",
      "\n",
      "\n",
      "\n"
     ]
    }
   ],
   "source": [
    "\n",
    "AZURE_TENANT_ID=\"aebd532b-ffab-4aca-9a23-620370090cc8\"\n",
    "AZURE_CLIENT_ID=\"e1cace18-50c5-4d55-9c13-fa2c1543c06b\"\n",
    "AZURE_CLIENT_SECRET= \"r1ryF2.3tDnn02VrkAV~YY-~bPgNi8O1~x\"\n",
    "AZURE_SUBSCRIPTION_ID=\"3600cd0c-0725-4a38-8ac6-e135b659c5c8\"\n",
    "\n",
    "subscription_id =     AZURE_SUBSCRIPTION_ID\n",
    "\n",
    "Secretcredentials = ClientSecretCredential(\n",
    "    client_id=AZURE_CLIENT_ID, \n",
    "    client_secret=AZURE_CLIENT_SECRET, \n",
    "    tenant_id=AZURE_TENANT_ID) \n",
    "\n",
    "client = ResourceManagementClient(Secretcredentials, subscription_id)\n",
    "# for item in client.resource_groups.list():  # under subscription\n",
    "#     print_item(item)\n",
    "\n",
    "\n",
    "LOCATION = \"australiaeast\"\n",
    "resource_group_params = {'location':'australiaeast'}\n",
    "GROUP_NAME = \"azure-sample-group\"\n",
    "\n",
    "# Create Resource group\n",
    "print(\"Create Resource Group\")\n",
    "print_item(\n",
    "    client.resource_groups.create_or_update(\n",
    "        GROUP_NAME, resource_group_params)\n",
    ")\n",
    "\n",
    "# Modify the Resource group\n",
    "print(\"Modify Resource Group\")\n",
    "resource_group_params.update(tags={\"hello\": \"world\"})\n",
    "print_item(\n",
    "    client.resource_groups.create_or_update(\n",
    "        GROUP_NAME, resource_group_params)\n",
    ")\n",
    "    "
   ]
  },
  {
   "cell_type": "code",
   "execution_count": 11,
   "id": "dependent-format",
   "metadata": {},
   "outputs": [
    {
     "name": "stdout",
     "output_type": "stream",
     "text": [
      "Provisioned storage account blobtest4sophie\n",
      "Primary key for storage account: DPuV8jswVgNUyJkPFA8fVdbflo3ErBCergDn6PBEFt6RszTUicSDjy0KD3IbUvw1OOusXUX2y0ECdF+Ogr5kvQ==\n",
      "Connection string: DefaultEndpointsProtocol=https;EndpointSuffix=core.windows.net;AccountName=blobtest4sophie;AccountKey=DPuV8jswVgNUyJkPFA8fVdbflo3ErBCergDn6PBEFt6RszTUicSDjy0KD3IbUvw1OOusXUX2y0ECdF+Ogr5kvQ==\n",
      "Provisioned blob container blob-container-01\n"
     ]
    }
   ],
   "source": [
    "storage_client = StorageManagementClient(Secretcredentials, subscription_id)\n",
    "\n",
    "STORAGE_ACCOUNT_NAME = 'blobtest4sophie'\n",
    "\n",
    "poller = storage_client.storage_accounts.begin_create(GROUP_NAME, STORAGE_ACCOUNT_NAME,\n",
    "    {\n",
    "        \"location\" : LOCATION,\n",
    "        \"kind\": \"StorageV2\",\n",
    "        \"sku\": {\"name\": \"Standard_LRS\"}\n",
    "    }\n",
    ")\n",
    "\n",
    "# Long-running operations return a poller object; calling poller.result()\n",
    "# waits for completion.\n",
    "account_result = poller.result()\n",
    "print(f\"Provisioned storage account {account_result.name}\")\n",
    "\n",
    "\n",
    "# Step 3: Retrieve the account's primary access key and generate a connection string.\n",
    "keys = storage_client.storage_accounts.list_keys(GROUP_NAME, STORAGE_ACCOUNT_NAME)\n",
    "\n",
    "print(f\"Primary key for storage account: {keys.keys[0].value}\")\n",
    "\n",
    "conn_string = f\"DefaultEndpointsProtocol=https;EndpointSuffix=core.windows.net;AccountName={STORAGE_ACCOUNT_NAME};AccountKey={keys.keys[0].value}\"\n",
    "\n",
    "print(f\"Connection string: {conn_string}\")\n",
    "\n",
    "# Step 4: Provision the blob container in the account (this call is synchronous)\n",
    "CONTAINER_NAME = \"blob-container-01\"\n",
    "container = storage_client.blob_containers.create(GROUP_NAME, STORAGE_ACCOUNT_NAME, CONTAINER_NAME, {})\n",
    "\n",
    "# The fourth argument is a required BlobContainer object, but because we don't need any\n",
    "# special values there, so we just pass empty JSON.\n",
    "\n",
    "print(f\"Provisioned blob container {container.name}\")"
   ]
  },
  {
   "cell_type": "code",
   "execution_count": 12,
   "id": "piano-better",
   "metadata": {},
   "outputs": [],
   "source": [
    "from azure.storage.blob import BlobClient\n",
    "import pandas as pd\n",
    "\n",
    "# Define parameters\n",
    "connectionString = conn_string\n",
    "containerName = CONTAINER_NAME\n",
    "outputBlobName= \"iris_setosa.csv\"\n",
    "\n",
    "# Establish connection with the blob storage account\n",
    "blob = BlobClient.from_connection_string(conn_str=connectionString, container_name=containerName, blob_name=outputBlobName)\n",
    "filename = r'C:\\Users\\azhang\\Downloads\\batch-adf-pipeline-tutorial-master\\iris.csv'\n",
    "# Load iris dataset from the task node\n",
    "df = pd.read_csv(filename)\n",
    "\n",
    "# Take a subset of the records\n",
    "df = df[df['Species'] == \"setosa\"]\n",
    "\n",
    "# Save the subset of the iris dataframe locally in task node\n",
    "df.to_csv(outputBlobName, index = False)\n",
    "\n",
    "with open(outputBlobName, \"rb\") as data:\n",
    "    blob.upload_blob(data)"
   ]
  },
  {
   "cell_type": "code",
   "execution_count": null,
   "id": "periodic-knight",
   "metadata": {},
   "outputs": [],
   "source": []
  },
  {
   "cell_type": "code",
   "execution_count": 14,
   "id": "optical-profile",
   "metadata": {},
   "outputs": [],
   "source": [
    "\n",
    "Secretcredentials = ClientSecretCredential(client_id=AZURE_CLIENT_ID, client_secret=AZURE_CLIENT_SECRET, tenant_id=AZURE_TENANT_ID) \n",
    "\n",
    "resource_client = ResourceManagementClient(Secretcredentials, subscription_id)\n",
    "adf_client = DataFactoryManagementClient(Secretcredentials, subscription_id)\n",
    "\n"
   ]
  },
  {
   "cell_type": "code",
   "execution_count": 22,
   "id": "imported-creation",
   "metadata": {},
   "outputs": [
    {
     "name": "stdout",
     "output_type": "stream",
     "text": [
      "\tName: rg-test-adf-test3\n",
      "\tId: /subscriptions/3600cd0c-0725-4a38-8ac6-e135b659c5c8/resourceGroups/azure-sample-group/providers/Microsoft.DataFactory/factories/rg-test-adf-test3\n",
      "\tLocation: australiaeast\n",
      "\tTags: {}\n"
     ]
    }
   ],
   "source": [
    "df_resource = Factory(location='australiaeast')\n",
    "df_name = 'rg-test-adf-test3'\n",
    "\n",
    "rg_name = GROUP_NAME\n",
    "df = adf_client.factories.create_or_update(rg_name, df_name, df_resource)\n",
    "print_item(df)\n",
    "while df.provisioning_state != 'Succeeded':\n",
    "    df = adf_client.factories.get(rg_name, df_name)\n",
    "    time.sleep(1)\n"
   ]
  },
  {
   "cell_type": "code",
   "execution_count": 23,
   "id": "collect-hamilton",
   "metadata": {},
   "outputs": [
    {
     "name": "stdout",
     "output_type": "stream",
     "text": [
      "\tName: storageLinkedService001\n",
      "\tId: /subscriptions/3600cd0c-0725-4a38-8ac6-e135b659c5c8/resourceGroups/azure-sample-group/providers/Microsoft.DataFactory/factories/rg-test-adf-test3/linkedservices/storageLinkedService001\n",
      "\n",
      "\n",
      "\n"
     ]
    }
   ],
   "source": [
    "# Create an Azure Storage linked service\n",
    "ls_name = 'storageLinkedService001'\n",
    "\n",
    "# IMPORTANT: specify the name and key of your Azure Storage account.\n",
    "storage_string = SecureString(value=conn_string)\n",
    "ls_azure_storage = LinkedServiceResource(properties=AzureStorageLinkedService(connection_string=storage_string)) \n",
    "ls = adf_client.linked_services.create_or_update(rg_name, df_name, ls_name, ls_azure_storage)\n",
    "print_item(ls)"
   ]
  },
  {
   "cell_type": "code",
   "execution_count": 24,
   "id": "former-organ",
   "metadata": {},
   "outputs": [
    {
     "name": "stdout",
     "output_type": "stream",
     "text": [
      "\tName: ds_in\n",
      "\tId: /subscriptions/3600cd0c-0725-4a38-8ac6-e135b659c5c8/resourceGroups/azure-sample-group/providers/Microsoft.DataFactory/factories/rg-test-adf-test3/datasets/ds_in\n",
      "\n",
      "\n",
      "\n"
     ]
    }
   ],
   "source": [
    "# Create an Azure blob dataset (input)\n",
    "ds_name = 'ds_in'\n",
    "ds_ls = LinkedServiceReference(reference_name=ls_name)\n",
    "blob_path = 'blob-container-01'\n",
    "blob_filename = 'iris_setosa.csv'\n",
    "ds_azure_blob = DatasetResource(properties=AzureBlobDataset(\n",
    "    linked_service_name=ds_ls, folder_path=blob_path, file_name=blob_filename))\n",
    "ds = adf_client.datasets.create_or_update(\n",
    "    rg_name, df_name, ds_name, ds_azure_blob)\n",
    "print_item(ds)\n"
   ]
  },
  {
   "cell_type": "code",
   "execution_count": 25,
   "id": "hawaiian-julian",
   "metadata": {},
   "outputs": [
    {
     "name": "stdout",
     "output_type": "stream",
     "text": [
      "\tName: ds_out\n",
      "\tId: /subscriptions/3600cd0c-0725-4a38-8ac6-e135b659c5c8/resourceGroups/azure-sample-group/providers/Microsoft.DataFactory/factories/rg-test-adf-test3/datasets/ds_out\n",
      "\n",
      "\n",
      "\n"
     ]
    }
   ],
   "source": [
    "# Create an Azure blob dataset (output)\n",
    "dsOut_name = 'ds_out'\n",
    "output_blobpath = 'blob-container-01/output'\n",
    "dsOut_azure_blob = DatasetResource(properties=AzureBlobDataset(linked_service_name=ds_ls, folder_path=output_blobpath))\n",
    "dsOut = adf_client.datasets.create_or_update(\n",
    "    rg_name, df_name, dsOut_name, dsOut_azure_blob)\n",
    "print_item(dsOut)\n"
   ]
  },
  {
   "cell_type": "code",
   "execution_count": 26,
   "id": "indie-costa",
   "metadata": {},
   "outputs": [],
   "source": [
    "# Create a copy activity\n",
    "act_name = 'copyBlobtoBlob'\n",
    "blob_source = BlobSource()\n",
    "blob_sink = BlobSink()\n",
    "dsin_ref = DatasetReference(reference_name=ds_name)\n",
    "dsOut_ref = DatasetReference(reference_name=dsOut_name)\n",
    "copy_activity = CopyActivity(name=act_name, inputs=[dsin_ref], outputs=[\n",
    "                             dsOut_ref], source=blob_source, sink=blob_sink)\n"
   ]
  },
  {
   "cell_type": "code",
   "execution_count": 27,
   "id": "electronic-asian",
   "metadata": {},
   "outputs": [
    {
     "name": "stdout",
     "output_type": "stream",
     "text": [
      "\tName: copyPipeline\n",
      "\tId: /subscriptions/3600cd0c-0725-4a38-8ac6-e135b659c5c8/resourceGroups/azure-sample-group/providers/Microsoft.DataFactory/factories/rg-test-adf-test3/pipelines/copyPipeline\n"
     ]
    }
   ],
   "source": [
    "# Create a pipeline with the copy activity\n",
    "p_name = 'copyPipeline'\n",
    "params_for_pipeline = {}\n",
    "p_obj = PipelineResource(\n",
    "    activities=[copy_activity], parameters=params_for_pipeline)\n",
    "p = adf_client.pipelines.create_or_update(rg_name, df_name, p_name, p_obj)\n",
    "print_item(p)\n"
   ]
  },
  {
   "cell_type": "code",
   "execution_count": 28,
   "id": "theoretical-toyota",
   "metadata": {},
   "outputs": [
    {
     "name": "stderr",
     "output_type": "stream",
     "text": [
      "Datetime with no tzinfo will be considered UTC.\n",
      "Datetime with no tzinfo will be considered UTC.\n"
     ]
    },
    {
     "name": "stdout",
     "output_type": "stream",
     "text": [
      "\n",
      "\tPipeline run status: Succeeded\n",
      "\n",
      "\tActivity run details\n",
      "\n",
      "\tActivity run status: Succeeded\n",
      "\tNumber of bytes read: 1259\n",
      "\tNumber of bytes written: 1259\n",
      "\tCopy duration: 5\n"
     ]
    }
   ],
   "source": [
    "\n",
    "# Create a pipeline run\n",
    "run_response = adf_client.pipelines.create_run(rg_name, df_name, p_name, parameters={})\n",
    "\n",
    "# Monitor the pipeline run\n",
    "time.sleep(30)\n",
    "pipeline_run = adf_client.pipeline_runs.get(\n",
    "    rg_name, df_name, run_response.run_id)\n",
    "print(\"\\n\\tPipeline run status: {}\".format(pipeline_run.status))\n",
    "filter_params = RunFilterParameters(\n",
    "    last_updated_after=datetime.now() - timedelta(1), last_updated_before=datetime.now() + timedelta(1))\n",
    "query_response = adf_client.activity_runs.query_by_pipeline_run(\n",
    "    rg_name, df_name, pipeline_run.run_id, filter_params)\n",
    "print_activity_run_details(query_response.value[0])\n",
    "\n",
    "# or run by batch or event trigered\n"
   ]
  },
  {
   "cell_type": "code",
   "execution_count": null,
   "id": "round-liechtenstein",
   "metadata": {},
   "outputs": [],
   "source": [
    "\n"
   ]
  },
  {
   "cell_type": "code",
   "execution_count": 35,
   "id": "treated-click",
   "metadata": {},
   "outputs": [
    {
     "name": "stdout",
     "output_type": "stream",
     "text": [
      "Delete Resource Group\n",
      "\n",
      "Deleted: azure-sample-group\n"
     ]
    }
   ],
   "source": [
    "# # Delete Resource group and everything in it\n",
    "# print(\"Delete Resource Group\")\n",
    "# delete_async_operation = client.resource_groups.delete(GROUP_NAME)\n",
    "# delete_async_operation.wait()\n",
    "# print(\"\\nDeleted: {}\".format(GROUP_NAME))"
   ]
  },
  {
   "cell_type": "code",
   "execution_count": null,
   "id": "labeled-insurance",
   "metadata": {},
   "outputs": [],
   "source": [
    "\n",
    "\n"
   ]
  },
  {
   "cell_type": "code",
   "execution_count": null,
   "id": "future-combine",
   "metadata": {},
   "outputs": [],
   "source": []
  }
 ],
 "metadata": {
  "kernelspec": {
   "display_name": "Python 3",
   "language": "python",
   "name": "python3"
  },
  "language_info": {
   "codemirror_mode": {
    "name": "ipython",
    "version": 3
   },
   "file_extension": ".py",
   "mimetype": "text/x-python",
   "name": "python",
   "nbconvert_exporter": "python",
   "pygments_lexer": "ipython3",
   "version": "3.8.5"
  }
 },
 "nbformat": 4,
 "nbformat_minor": 5
}
